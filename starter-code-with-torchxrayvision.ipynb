{
  "metadata": {
    "kernelspec": {
      "language": "python",
      "display_name": "Python 3",
      "name": "python3"
    },
    "language_info": {
      "pygments_lexer": "ipython3",
      "nbconvert_exporter": "python",
      "version": "3.6.4",
      "file_extension": ".py",
      "codemirror_mode": {
        "name": "ipython",
        "version": 3
      },
      "name": "python",
      "mimetype": "text/x-python"
    },
    "colab": {
      "name": "starter-code-with-torchxrayvision.ipynb",
      "provenance": []
    },
    "accelerator": "GPU"
  },
  "nbformat_minor": 0,
  "nbformat": 4,
  "cells": [
    {
      "cell_type": "markdown",
      "source": [
        "# Подготовка данных\n",
        "\n",
        "Мы использользуем набор данных PadChest \n",
        "\n",
        "TODO: подготовить больше текста/описания для слайдов, см. https://bimcv.cipf.es/bimcv-projects/padchest/"
      ],
      "metadata": {
        "id": "iUsLm1EeMk7n"
      }
    },
    {
      "cell_type": "code",
      "source": [
        "!mkdir -p /content/padchest\n",
        "\n",
        "# download sample images from padchest\n",
        "!gdown 1FJ8T2lYCtTxtfhatpcXBpXvEBx9gTf81\n",
        "!unzip -qo /content/sample.zip -d /content/padchest/\n",
        "# download sample 2 images\n",
        "!gdown 1_mKm1hlqAbxDfvZRKAJjW4icZPqAXICD\n",
        "!unzip -qo /content/padchest_sample2.zip -d /content/padchest/\n",
        "!ls /content/padchest/*.png | wc -l\n",
        "\n",
        "# labels from ML drive\n",
        "!gdown 1WYuYC-p77joqAv7TDivS3zGMD3NqTk4T\n",
        "!mv /content/PADCHEST_chest_x_ray_images_labels_160K_01.02.19.csv /content/padchest/"
      ],
      "metadata": {
        "colab": {
          "base_uri": "https://localhost:8080/"
        },
        "id": "GE462ijmMdG8",
        "outputId": "22bbe944-cb42-4f87-f85a-29042b1636b3"
      },
      "execution_count": 76,
      "outputs": [
        {
          "output_type": "stream",
          "name": "stdout",
          "text": [
            "Downloading...\n",
            "From: https://drive.google.com/uc?id=1FJ8T2lYCtTxtfhatpcXBpXvEBx9gTf81\n",
            "To: /content/sample.zip\n",
            "100% 175M/175M [00:00<00:00, 217MB/s]\n",
            "Downloading...\n",
            "From: https://drive.google.com/uc?id=1_mKm1hlqAbxDfvZRKAJjW4icZPqAXICD\n",
            "To: /content/padchest_sample2.zip\n",
            "100% 1.20G/1.20G [00:05<00:00, 218MB/s]\n",
            "161\n",
            "Downloading...\n",
            "From: https://drive.google.com/uc?id=1WYuYC-p77joqAv7TDivS3zGMD3NqTk4T\n",
            "To: /content/PADCHEST_chest_x_ray_images_labels_160K_01.02.19.csv\n",
            "100% 99.2M/99.2M [00:01<00:00, 64.8MB/s]\n"
          ]
        }
      ]
    },
    {
      "cell_type": "markdown",
      "source": [
        "Install pytorch X-ray library"
      ],
      "metadata": {
        "id": "wx0yw_lrMVAO"
      }
    },
    {
      "cell_type": "code",
      "source": [
        "!pip install torchxrayvision"
      ],
      "metadata": {
        "trusted": true,
        "colab": {
          "base_uri": "https://localhost:8080/"
        },
        "id": "hPhbOABNMVAU",
        "outputId": "c7633e4b-b89c-4f16-8753-99b24ca9ecb5"
      },
      "execution_count": 77,
      "outputs": [
        {
          "output_type": "stream",
          "name": "stdout",
          "text": [
            "Requirement already satisfied: torchxrayvision in /usr/local/lib/python3.7/dist-packages (0.0.37)\n",
            "Requirement already satisfied: tqdm>=4 in /usr/local/lib/python3.7/dist-packages (from torchxrayvision) (4.64.0)\n",
            "Requirement already satisfied: torchvision>=0.5 in /usr/local/lib/python3.7/dist-packages (from torchxrayvision) (0.12.0+cu113)\n",
            "Requirement already satisfied: requests>=1 in /usr/local/lib/python3.7/dist-packages (from torchxrayvision) (2.23.0)\n",
            "Requirement already satisfied: numpy>=1 in /usr/local/lib/python3.7/dist-packages (from torchxrayvision) (1.21.6)\n",
            "Requirement already satisfied: scikit-image>=0.16 in /usr/local/lib/python3.7/dist-packages (from torchxrayvision) (0.18.3)\n",
            "Requirement already satisfied: torch>=1 in /usr/local/lib/python3.7/dist-packages (from torchxrayvision) (1.11.0+cu113)\n",
            "Requirement already satisfied: pillow>=5.3.0 in /usr/local/lib/python3.7/dist-packages (from torchxrayvision) (7.1.2)\n",
            "Requirement already satisfied: pandas>=1 in /usr/local/lib/python3.7/dist-packages (from torchxrayvision) (1.3.5)\n",
            "Requirement already satisfied: python-dateutil>=2.7.3 in /usr/local/lib/python3.7/dist-packages (from pandas>=1->torchxrayvision) (2.8.2)\n",
            "Requirement already satisfied: pytz>=2017.3 in /usr/local/lib/python3.7/dist-packages (from pandas>=1->torchxrayvision) (2022.1)\n",
            "Requirement already satisfied: six>=1.5 in /usr/local/lib/python3.7/dist-packages (from python-dateutil>=2.7.3->pandas>=1->torchxrayvision) (1.15.0)\n",
            "Requirement already satisfied: idna<3,>=2.5 in /usr/local/lib/python3.7/dist-packages (from requests>=1->torchxrayvision) (2.10)\n",
            "Requirement already satisfied: certifi>=2017.4.17 in /usr/local/lib/python3.7/dist-packages (from requests>=1->torchxrayvision) (2021.10.8)\n",
            "Requirement already satisfied: urllib3!=1.25.0,!=1.25.1,<1.26,>=1.21.1 in /usr/local/lib/python3.7/dist-packages (from requests>=1->torchxrayvision) (1.24.3)\n",
            "Requirement already satisfied: chardet<4,>=3.0.2 in /usr/local/lib/python3.7/dist-packages (from requests>=1->torchxrayvision) (3.0.4)\n",
            "Requirement already satisfied: PyWavelets>=1.1.1 in /usr/local/lib/python3.7/dist-packages (from scikit-image>=0.16->torchxrayvision) (1.3.0)\n",
            "Requirement already satisfied: networkx>=2.0 in /usr/local/lib/python3.7/dist-packages (from scikit-image>=0.16->torchxrayvision) (2.6.3)\n",
            "Requirement already satisfied: tifffile>=2019.7.26 in /usr/local/lib/python3.7/dist-packages (from scikit-image>=0.16->torchxrayvision) (2021.11.2)\n",
            "Requirement already satisfied: scipy>=1.0.1 in /usr/local/lib/python3.7/dist-packages (from scikit-image>=0.16->torchxrayvision) (1.4.1)\n",
            "Requirement already satisfied: matplotlib!=3.0.0,>=2.0.0 in /usr/local/lib/python3.7/dist-packages (from scikit-image>=0.16->torchxrayvision) (3.2.2)\n",
            "Requirement already satisfied: imageio>=2.3.0 in /usr/local/lib/python3.7/dist-packages (from scikit-image>=0.16->torchxrayvision) (2.4.1)\n",
            "Requirement already satisfied: cycler>=0.10 in /usr/local/lib/python3.7/dist-packages (from matplotlib!=3.0.0,>=2.0.0->scikit-image>=0.16->torchxrayvision) (0.11.0)\n",
            "Requirement already satisfied: kiwisolver>=1.0.1 in /usr/local/lib/python3.7/dist-packages (from matplotlib!=3.0.0,>=2.0.0->scikit-image>=0.16->torchxrayvision) (1.4.2)\n",
            "Requirement already satisfied: pyparsing!=2.0.4,!=2.1.2,!=2.1.6,>=2.0.1 in /usr/local/lib/python3.7/dist-packages (from matplotlib!=3.0.0,>=2.0.0->scikit-image>=0.16->torchxrayvision) (3.0.8)\n",
            "Requirement already satisfied: typing-extensions in /usr/local/lib/python3.7/dist-packages (from kiwisolver>=1.0.1->matplotlib!=3.0.0,>=2.0.0->scikit-image>=0.16->torchxrayvision) (4.2.0)\n"
          ]
        }
      ]
    },
    {
      "cell_type": "code",
      "source": [
        "from glob import glob\n",
        "import matplotlib.pyplot as plt\n",
        "import numpy as np\n",
        "import torch  \n",
        "import torchvision\n",
        "import torchxrayvision as xrv\n",
        "import pylab\n",
        "import torch.optim as optim\n",
        "import torch.nn as nn\n",
        "from pathlib import Path\n",
        "from tqdm import tqdm"
      ],
      "metadata": {
        "_uuid": "8f2839f25d086af736a60e9eeb907d3b93b6e0e5",
        "_cell_guid": "b1076dfc-b9ad-4769-8c92-a6c4dae69d19",
        "trusted": true,
        "id": "DS4Sd1hUMVAX"
      },
      "execution_count": 78,
      "outputs": []
    },
    {
      "cell_type": "code",
      "source": [
        "PATH = Path('/content/padchest')"
      ],
      "metadata": {
        "trusted": true,
        "id": "z-HMwHoPMVAZ"
      },
      "execution_count": 79,
      "outputs": []
    },
    {
      "cell_type": "code",
      "source": [
        "transform = torchvision.transforms.Compose([xrv.datasets.XRayCenterCrop(),xrv.datasets.XRayResizer(224)])\n",
        "dataset = xrv.datasets.PC_Dataset(imgpath=PATH,csvpath=PATH/'PADCHEST_chest_x_ray_images_labels_160K_01.02.19.csv', transform=transform)"
      ],
      "metadata": {
        "_uuid": "d629ff2d2480ee46fbb7e2d37f6b5fab8052498a",
        "_cell_guid": "79c7e3d0-c299-4dcb-8224-4455121ee9b0",
        "trusted": true,
        "id": "21Ds09UiMVAa"
      },
      "execution_count": 80,
      "outputs": []
    },
    {
      "cell_type": "code",
      "source": [
        "# consider records with existing png only\n",
        "pngs = [f.name for f in PATH.glob(\"*.png\")]\n",
        "idxs = np.where(dataset.csv['ImageID'].isin(pngs))[0]\n",
        "dataset = xrv.datasets.SubsetDataset(dataset, idxs)"
      ],
      "metadata": {
        "id": "or0Ttxx8IFnu"
      },
      "execution_count": 81,
      "outputs": []
    },
    {
      "cell_type": "code",
      "source": [
        "print(dataset)"
      ],
      "metadata": {
        "trusted": true,
        "colab": {
          "base_uri": "https://localhost:8080/"
        },
        "id": "EOz47neVMVAb",
        "outputId": "ed93c363-f4bb-4543-9b71-8209da90aa88"
      },
      "execution_count": 82,
      "outputs": [
        {
          "output_type": "stream",
          "name": "stdout",
          "text": [
            "{'Air Trapping': {0.0: 131, 1.0: 8},\n",
            " 'Aortic Atheromatosis': {0.0: 125, 1.0: 14},\n",
            " 'Aortic Elongation': {0.0: 96, 1.0: 43},\n",
            " 'Atelectasis': {0.0: 135, 1.0: 4},\n",
            " 'Bronchiectasis': {0.0: 135, 1.0: 4},\n",
            " 'Cardiomegaly': {0.0: 7, 1.0: 132},\n",
            " 'Consolidation': {0.0: 139},\n",
            " 'Costophrenic Angle Blunting': {0.0: 128, 1.0: 11},\n",
            " 'Edema': {0.0: 139},\n",
            " 'Effusion': {0.0: 136, 1.0: 3},\n",
            " 'Emphysema': {0.0: 139},\n",
            " 'Fibrosis': {0.0: 139},\n",
            " 'Flattened Diaphragm': {0.0: 138, 1.0: 1},\n",
            " 'Fracture': {0.0: 137, 1.0: 2},\n",
            " 'Granuloma': {0.0: 136, 1.0: 3},\n",
            " 'Hemidiaphragm Elevation': {0.0: 138, 1.0: 1},\n",
            " 'Hernia': {0.0: 136, 1.0: 3},\n",
            " 'Hilar Enlargement': {0.0: 118, 1.0: 21},\n",
            " 'Infiltration': {0.0: 127, 1.0: 12},\n",
            " 'Mass': {0.0: 138, 1.0: 1},\n",
            " 'Nodule': {0.0: 134, 1.0: 5},\n",
            " 'Pleural_Thickening': {0.0: 133, 1.0: 6},\n",
            " 'Pneumonia': {0.0: 136, 1.0: 3},\n",
            " 'Pneumothorax': {0.0: 138, 1.0: 1},\n",
            " 'Scoliosis': {0.0: 122, 1.0: 17},\n",
            " 'Support Devices': {0.0: 120, 1.0: 19},\n",
            " 'Tube': {0.0: 139},\n",
            " 'Tuberculosis': {0.0: 139}}\n",
            "SubsetDataset num_samples=139\n",
            "└ of PC_Dataset num_samples=61692 views=['PA'] data_aug=None\n"
          ]
        }
      ]
    },
    {
      "cell_type": "code",
      "source": [
        "len_dataset=len(dataset)\n",
        "n_train=int(0.9*len_dataset)\n",
        "n_test=len_dataset-n_train\n",
        "print(f'Total samples: {len_dataset}, train size size: {n_train}, test set size: {n_test}')"
      ],
      "metadata": {
        "trusted": true,
        "id": "EnslM23wMVAc",
        "colab": {
          "base_uri": "https://localhost:8080/"
        },
        "outputId": "b7da0284-832f-44ba-dc8c-f18772685522"
      },
      "execution_count": 83,
      "outputs": [
        {
          "output_type": "stream",
          "name": "stdout",
          "text": [
            "Total samples: 139, train size size: 125, test set size: 14\n"
          ]
        }
      ]
    },
    {
      "cell_type": "code",
      "source": [
        "train_ds, test_ds = torch.utils.data.random_split(dataset, [n_train,n_test])\n",
        "train_dl = torch.utils.data.DataLoader(train_ds, batch_size=4,shuffle=True, num_workers=4)\n",
        "test_dl = torch.utils.data.DataLoader(test_ds, batch_size=4,shuffle=True, num_workers=1)"
      ],
      "metadata": {
        "trusted": true,
        "id": "WArqdQ-rMVAd"
      },
      "execution_count": 84,
      "outputs": []
    },
    {
      "cell_type": "code",
      "source": [
        "model = xrv.models.DenseNet(num_classes=2).cuda()\n",
        "criterion = nn.CrossEntropyLoss()\n",
        "optimizer = optim.SGD(model.parameters(), lr=0.001, momentum=0.9)"
      ],
      "metadata": {
        "trusted": true,
        "id": "4XBkJp9dMVAe"
      },
      "execution_count": 85,
      "outputs": []
    },
    {
      "cell_type": "markdown",
      "source": [
        "Features and target columns"
      ],
      "metadata": {
        "id": "RQbvOxMGMVAg"
      }
    },
    {
      "cell_type": "code",
      "source": [
        "features = 'PA' # \n",
        "target = 'lab'  #"
      ],
      "metadata": {
        "trusted": true,
        "id": "n7g4c8QtMVAg"
      },
      "execution_count": 86,
      "outputs": []
    },
    {
      "cell_type": "markdown",
      "source": [
        "Training loop"
      ],
      "metadata": {
        "id": "mntxqzA6MVAi"
      }
    },
    {
      "cell_type": "code",
      "source": [
        "train_loss_history, test_loss_history = [], []\n",
        "for epoch in tqdm(range(10)):  # loop over the dataset multiple times\n",
        "\n",
        "    running_loss = 0.0\n",
        "    for i, data in enumerate(train_dl, 0):\n",
        "        inputs=data[features].cuda()\n",
        "        labels=data[target].long().cuda()\n",
        "        labels=labels[:,2]\n",
        "       \n",
        "        # get the inputs; data is a list of [inputs, labels]\n",
        "        # zero the parameter gradients\n",
        "        optimizer.zero_grad()\n",
        "\n",
        "        # forward + backward + optimize\n",
        "        outputs = model(inputs)\n",
        "        loss = criterion(outputs, labels)\n",
        "        loss.backward()\n",
        "        optimizer.step()\n",
        "\n",
        "        # print statistics\n",
        "        running_loss += loss.item()\n",
        "    test_loss=0.0\n",
        "\n",
        "    for i, data in enumerate(test_dl, 0):\n",
        "        inputs=data[features].cuda()\n",
        "        labels=data[target].long().cuda()\n",
        "        labels=labels[:,2]\n",
        "\n",
        "        # forward + backward + optimize\n",
        "        outputs = model(inputs)\n",
        "        loss = criterion(outputs, labels)\n",
        "\n",
        "        # print statistics\n",
        "        test_loss += loss.item()\n",
        "        \n",
        "    train_loss_history.append(running_loss)\n",
        "    test_loss_history.append(test_loss)"
      ],
      "metadata": {
        "trusted": true,
        "id": "5mawWFr2MVAi",
        "colab": {
          "base_uri": "https://localhost:8080/",
          "height": 263
        },
        "outputId": "3ba329cb-7477-453c-baca-68a38cb197f5"
      },
      "execution_count": 89,
      "outputs": [
        {
          "output_type": "stream",
          "name": "stdout",
          "text": [
            "0 0\n"
          ]
        },
        {
          "output_type": "error",
          "ename": "KeyError",
          "evalue": "ignored",
          "traceback": [
            "\u001b[0;31m---------------------------------------------------------------------------\u001b[0m",
            "\u001b[0;31mKeyError\u001b[0m                                  Traceback (most recent call last)",
            "\u001b[0;32m<ipython-input-89-0e4e1620da28>\u001b[0m in \u001b[0;36m<module>\u001b[0;34m()\u001b[0m\n\u001b[1;32m      5\u001b[0m     \u001b[0;32mfor\u001b[0m \u001b[0mi\u001b[0m\u001b[0;34m,\u001b[0m \u001b[0mdata\u001b[0m \u001b[0;32min\u001b[0m \u001b[0menumerate\u001b[0m\u001b[0;34m(\u001b[0m\u001b[0mtrain_dl\u001b[0m\u001b[0;34m,\u001b[0m \u001b[0;36m0\u001b[0m\u001b[0;34m)\u001b[0m\u001b[0;34m:\u001b[0m\u001b[0;34m\u001b[0m\u001b[0;34m\u001b[0m\u001b[0m\n\u001b[1;32m      6\u001b[0m         \u001b[0mprint\u001b[0m\u001b[0;34m(\u001b[0m\u001b[0mepoch\u001b[0m\u001b[0;34m,\u001b[0m \u001b[0mi\u001b[0m\u001b[0;34m)\u001b[0m\u001b[0;34m\u001b[0m\u001b[0;34m\u001b[0m\u001b[0m\n\u001b[0;32m----> 7\u001b[0;31m         \u001b[0minputs\u001b[0m\u001b[0;34m=\u001b[0m\u001b[0mdata\u001b[0m\u001b[0;34m[\u001b[0m\u001b[0mfeatures\u001b[0m\u001b[0;34m]\u001b[0m\u001b[0;34m.\u001b[0m\u001b[0mcuda\u001b[0m\u001b[0;34m(\u001b[0m\u001b[0;34m)\u001b[0m\u001b[0;34m\u001b[0m\u001b[0;34m\u001b[0m\u001b[0m\n\u001b[0m\u001b[1;32m      8\u001b[0m         \u001b[0mlabels\u001b[0m\u001b[0;34m=\u001b[0m\u001b[0mdata\u001b[0m\u001b[0;34m[\u001b[0m\u001b[0mtarget\u001b[0m\u001b[0;34m]\u001b[0m\u001b[0;34m.\u001b[0m\u001b[0mlong\u001b[0m\u001b[0;34m(\u001b[0m\u001b[0;34m)\u001b[0m\u001b[0;34m.\u001b[0m\u001b[0mcuda\u001b[0m\u001b[0;34m(\u001b[0m\u001b[0;34m)\u001b[0m\u001b[0;34m\u001b[0m\u001b[0;34m\u001b[0m\u001b[0m\n\u001b[1;32m      9\u001b[0m         \u001b[0mlabels\u001b[0m\u001b[0;34m=\u001b[0m\u001b[0mlabels\u001b[0m\u001b[0;34m[\u001b[0m\u001b[0;34m:\u001b[0m\u001b[0;34m,\u001b[0m\u001b[0;36m2\u001b[0m\u001b[0;34m]\u001b[0m\u001b[0;34m\u001b[0m\u001b[0;34m\u001b[0m\u001b[0m\n",
            "\u001b[0;31mKeyError\u001b[0m: 'PA'"
          ]
        }
      ]
    },
    {
      "cell_type": "code",
      "source": [
        "plt.plot(train_loss_history, label='trainig loss')\n",
        "plt.plot(test_loss_history, label='testing loss')\n",
        "plt.xlabel(\"Epoch\")\n",
        "plt.ylabel(\"Loss\")\n",
        "plt.legend()"
      ],
      "metadata": {
        "trusted": true,
        "id": "lLCwgSvAMVAk"
      },
      "execution_count": null,
      "outputs": []
    },
    {
      "cell_type": "markdown",
      "source": [
        "to be continued."
      ],
      "metadata": {
        "id": "nyujWMojMVAk"
      }
    },
    {
      "cell_type": "code",
      "source": [
        ""
      ],
      "metadata": {
        "trusted": true,
        "id": "MfwHbnKpMVAl"
      },
      "execution_count": null,
      "outputs": []
    }
  ]
}