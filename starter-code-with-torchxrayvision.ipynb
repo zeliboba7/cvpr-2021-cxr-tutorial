{
  "metadata": {
    "kernelspec": {
      "language": "python",
      "display_name": "Python 3",
      "name": "python3"
    },
    "language_info": {
      "pygments_lexer": "ipython3",
      "nbconvert_exporter": "python",
      "version": "3.6.4",
      "file_extension": ".py",
      "codemirror_mode": {
        "name": "ipython",
        "version": 3
      },
      "name": "python",
      "mimetype": "text/x-python"
    },
    "colab": {
      "name": "starter-code-with-torchxrayvision.ipynb",
      "provenance": []
    }
  },
  "nbformat_minor": 0,
  "nbformat": 4,
  "cells": [
    {
      "cell_type": "markdown",
      "source": [
        "# Подготовка данных\n",
        "\n",
        "Мы использользуем набор данных PadChest \n",
        "\n",
        "TODO: подготовить больше текста/описания для слайдов, см. https://bimcv.cipf.es/bimcv-projects/padchest/"
      ],
      "metadata": {
        "id": "iUsLm1EeMk7n"
      }
    },
    {
      "cell_type": "code",
      "source": [
        "!mkdir -p /content/padchest\n",
        "\n",
        "# download sample images from padchest\n",
        "!gdown 1FJ8T2lYCtTxtfhatpcXBpXvEBx9gTf81\n",
        "!unzip -qo /content/sample.zip -d /content/padchest/\n",
        "# download sample 2 images\n",
        "!gdown 1_mKm1hlqAbxDfvZRKAJjW4icZPqAXICD\n",
        "!unzip -qo /content/padchest_sample2.zip -d /content/padchest/\n",
        "\n",
        "# labels from ML drive\n",
        "!gdown 1WYuYC-p77joqAv7TDivS3zGMD3NqTk4T\n",
        "!mv /content/PADCHEST_chest_x_ray_images_labels_160K_01.02.19.csv /content/padchest/"
      ],
      "metadata": {
        "colab": {
          "base_uri": "https://localhost:8080/"
        },
        "id": "GE462ijmMdG8",
        "outputId": "183dd247-208a-416a-c432-d62605e75185"
      },
      "execution_count": 2,
      "outputs": [
        {
          "output_type": "stream",
          "name": "stdout",
          "text": [
            "Downloading...\n",
            "From: https://drive.google.com/uc?id=1FJ8T2lYCtTxtfhatpcXBpXvEBx9gTf81\n",
            "To: /content/sample.zip\n",
            "100% 175M/175M [00:00<00:00, 252MB/s]\n",
            "Downloading...\n",
            "From: https://drive.google.com/uc?id=1_mKm1hlqAbxDfvZRKAJjW4icZPqAXICD\n",
            "To: /content/padchest_sample2.zip\n",
            "100% 1.20G/1.20G [00:04<00:00, 251MB/s]\n",
            "Downloading...\n",
            "From: https://drive.google.com/uc?id=1WYuYC-p77joqAv7TDivS3zGMD3NqTk4T\n",
            "To: /content/PADCHEST_chest_x_ray_images_labels_160K_01.02.19.csv\n",
            "100% 99.2M/99.2M [00:00<00:00, 247MB/s]\n"
          ]
        }
      ]
    },
    {
      "cell_type": "markdown",
      "source": [
        "Install pytorch X-ray library"
      ],
      "metadata": {
        "id": "wx0yw_lrMVAO"
      }
    },
    {
      "cell_type": "code",
      "source": [
        "!pip install torchxrayvision"
      ],
      "metadata": {
        "trusted": true,
        "colab": {
          "base_uri": "https://localhost:8080/"
        },
        "id": "hPhbOABNMVAU",
        "outputId": "e0c54985-1025-4a53-8640-feb71e76ce51"
      },
      "execution_count": 3,
      "outputs": [
        {
          "output_type": "stream",
          "name": "stdout",
          "text": [
            "Collecting torchxrayvision\n",
            "  Downloading torchxrayvision-0.0.37-py3-none-any.whl (29.0 MB)\n",
            "\u001b[K     |████████████████████████████████| 29.0 MB 1.5 MB/s \n",
            "\u001b[?25hRequirement already satisfied: requests>=1 in /usr/local/lib/python3.7/dist-packages (from torchxrayvision) (2.23.0)\n",
            "Requirement already satisfied: scikit-image>=0.16 in /usr/local/lib/python3.7/dist-packages (from torchxrayvision) (0.18.3)\n",
            "Requirement already satisfied: tqdm>=4 in /usr/local/lib/python3.7/dist-packages (from torchxrayvision) (4.64.0)\n",
            "Requirement already satisfied: torch>=1 in /usr/local/lib/python3.7/dist-packages (from torchxrayvision) (1.11.0+cu113)\n",
            "Requirement already satisfied: torchvision>=0.5 in /usr/local/lib/python3.7/dist-packages (from torchxrayvision) (0.12.0+cu113)\n",
            "Requirement already satisfied: numpy>=1 in /usr/local/lib/python3.7/dist-packages (from torchxrayvision) (1.21.6)\n",
            "Requirement already satisfied: pandas>=1 in /usr/local/lib/python3.7/dist-packages (from torchxrayvision) (1.3.5)\n",
            "Requirement already satisfied: pillow>=5.3.0 in /usr/local/lib/python3.7/dist-packages (from torchxrayvision) (7.1.2)\n",
            "Requirement already satisfied: python-dateutil>=2.7.3 in /usr/local/lib/python3.7/dist-packages (from pandas>=1->torchxrayvision) (2.8.2)\n",
            "Requirement already satisfied: pytz>=2017.3 in /usr/local/lib/python3.7/dist-packages (from pandas>=1->torchxrayvision) (2022.1)\n",
            "Requirement already satisfied: six>=1.5 in /usr/local/lib/python3.7/dist-packages (from python-dateutil>=2.7.3->pandas>=1->torchxrayvision) (1.15.0)\n",
            "Requirement already satisfied: idna<3,>=2.5 in /usr/local/lib/python3.7/dist-packages (from requests>=1->torchxrayvision) (2.10)\n",
            "Requirement already satisfied: certifi>=2017.4.17 in /usr/local/lib/python3.7/dist-packages (from requests>=1->torchxrayvision) (2021.10.8)\n",
            "Requirement already satisfied: chardet<4,>=3.0.2 in /usr/local/lib/python3.7/dist-packages (from requests>=1->torchxrayvision) (3.0.4)\n",
            "Requirement already satisfied: urllib3!=1.25.0,!=1.25.1,<1.26,>=1.21.1 in /usr/local/lib/python3.7/dist-packages (from requests>=1->torchxrayvision) (1.24.3)\n",
            "Requirement already satisfied: PyWavelets>=1.1.1 in /usr/local/lib/python3.7/dist-packages (from scikit-image>=0.16->torchxrayvision) (1.3.0)\n",
            "Requirement already satisfied: scipy>=1.0.1 in /usr/local/lib/python3.7/dist-packages (from scikit-image>=0.16->torchxrayvision) (1.4.1)\n",
            "Requirement already satisfied: matplotlib!=3.0.0,>=2.0.0 in /usr/local/lib/python3.7/dist-packages (from scikit-image>=0.16->torchxrayvision) (3.2.2)\n",
            "Requirement already satisfied: tifffile>=2019.7.26 in /usr/local/lib/python3.7/dist-packages (from scikit-image>=0.16->torchxrayvision) (2021.11.2)\n",
            "Requirement already satisfied: imageio>=2.3.0 in /usr/local/lib/python3.7/dist-packages (from scikit-image>=0.16->torchxrayvision) (2.4.1)\n",
            "Requirement already satisfied: networkx>=2.0 in /usr/local/lib/python3.7/dist-packages (from scikit-image>=0.16->torchxrayvision) (2.6.3)\n",
            "Requirement already satisfied: kiwisolver>=1.0.1 in /usr/local/lib/python3.7/dist-packages (from matplotlib!=3.0.0,>=2.0.0->scikit-image>=0.16->torchxrayvision) (1.4.2)\n",
            "Requirement already satisfied: pyparsing!=2.0.4,!=2.1.2,!=2.1.6,>=2.0.1 in /usr/local/lib/python3.7/dist-packages (from matplotlib!=3.0.0,>=2.0.0->scikit-image>=0.16->torchxrayvision) (3.0.8)\n",
            "Requirement already satisfied: cycler>=0.10 in /usr/local/lib/python3.7/dist-packages (from matplotlib!=3.0.0,>=2.0.0->scikit-image>=0.16->torchxrayvision) (0.11.0)\n",
            "Requirement already satisfied: typing-extensions in /usr/local/lib/python3.7/dist-packages (from kiwisolver>=1.0.1->matplotlib!=3.0.0,>=2.0.0->scikit-image>=0.16->torchxrayvision) (4.2.0)\n",
            "Installing collected packages: torchxrayvision\n",
            "Successfully installed torchxrayvision-0.0.37\n"
          ]
        }
      ]
    },
    {
      "cell_type": "code",
      "source": [
        "from glob import glob\n",
        "import matplotlib.pyplot as plt\n",
        "import numpy as np\n",
        "import torch  \n",
        "import torchvision\n",
        "import torchxrayvision as xrv\n",
        "import pylab\n",
        "import torch.optim as optim\n",
        "import torch.nn as nn\n",
        "from pathlib import Path\n",
        "from tqdm import tqdm"
      ],
      "metadata": {
        "_uuid": "8f2839f25d086af736a60e9eeb907d3b93b6e0e5",
        "_cell_guid": "b1076dfc-b9ad-4769-8c92-a6c4dae69d19",
        "trusted": true,
        "id": "DS4Sd1hUMVAX"
      },
      "execution_count": 4,
      "outputs": []
    },
    {
      "cell_type": "code",
      "source": [
        "PATH = Path('/content/padchest')"
      ],
      "metadata": {
        "trusted": true,
        "id": "z-HMwHoPMVAZ"
      },
      "execution_count": 5,
      "outputs": []
    },
    {
      "cell_type": "code",
      "source": [
        "transform = torchvision.transforms.Compose([xrv.datasets.XRayCenterCrop(),xrv.datasets.XRayResizer(224)])\n",
        "dataset = xrv.datasets.PC_Dataset(imgpath=PATH,csvpath=PATH/'PADCHEST_chest_x_ray_images_labels_160K_01.02.19.csv', transform=transform)"
      ],
      "metadata": {
        "_uuid": "d629ff2d2480ee46fbb7e2d37f6b5fab8052498a",
        "_cell_guid": "79c7e3d0-c299-4dcb-8224-4455121ee9b0",
        "trusted": true,
        "id": "21Ds09UiMVAa"
      },
      "execution_count": 6,
      "outputs": []
    },
    {
      "cell_type": "code",
      "source": [
        "print(dataset)"
      ],
      "metadata": {
        "trusted": true,
        "colab": {
          "base_uri": "https://localhost:8080/"
        },
        "id": "EOz47neVMVAb",
        "outputId": "f1f56d1c-9b0c-4a8e-dfb1-2c7cfb6b89de"
      },
      "execution_count": 7,
      "outputs": [
        {
          "output_type": "stream",
          "name": "stdout",
          "text": [
            "{'Air Trapping': {0.0: 59407, 1.0: 2285},\n",
            " 'Aortic Atheromatosis': {0.0: 60419, 1.0: 1273},\n",
            " 'Aortic Elongation': {0.0: 56611, 1.0: 5081},\n",
            " 'Atelectasis': {0.0: 59273, 1.0: 2419},\n",
            " 'Bronchiectasis': {0.0: 60821, 1.0: 871},\n",
            " 'Cardiomegaly': {0.0: 56305, 1.0: 5387},\n",
            " 'Consolidation': {0.0: 61217, 1.0: 475},\n",
            " 'Costophrenic Angle Blunting': {0.0: 59587, 1.0: 2105},\n",
            " 'Edema': {0.0: 61584, 1.0: 108},\n",
            " 'Effusion': {0.0: 60067, 1.0: 1625},\n",
            " 'Emphysema': {0.0: 61146, 1.0: 546},\n",
            " 'Fibrosis': {0.0: 61351, 1.0: 341},\n",
            " 'Flattened Diaphragm': {0.0: 61379, 1.0: 313},\n",
            " 'Fracture': {0.0: 60030, 1.0: 1662},\n",
            " 'Granuloma': {0.0: 60135, 1.0: 1557},\n",
            " 'Hemidiaphragm Elevation': {0.0: 60806, 1.0: 886},\n",
            " 'Hernia': {0.0: 60704, 1.0: 988},\n",
            " 'Hilar Enlargement': {0.0: 58875, 1.0: 2817},\n",
            " 'Infiltration': {0.0: 57383, 1.0: 4309},\n",
            " 'Mass': {0.0: 61186, 1.0: 506},\n",
            " 'Nodule': {0.0: 59502, 1.0: 2190},\n",
            " 'Pleural_Thickening': {0.0: 59617, 1.0: 2075},\n",
            " 'Pneumonia': {0.0: 59782, 1.0: 1910},\n",
            " 'Pneumothorax': {0.0: 61595, 1.0: 97},\n",
            " 'Scoliosis': {0.0: 57761, 1.0: 3931},\n",
            " 'Support Devices': {0.0: 60575, 1.0: 1117},\n",
            " 'Tube': {0.0: 61467, 1.0: 225},\n",
            " 'Tuberculosis': {0.0: 61290, 1.0: 402}}\n",
            "PC_Dataset num_samples=61692 views=['PA'] data_aug=None\n"
          ]
        }
      ]
    },
    {
      "cell_type": "code",
      "source": [
        "len_dataset=len(dataset)\n",
        "n_train=int(0.9*len_dataset)\n",
        "n_test=int(0.1*len_dataset)+1\n",
        "print(f'Total samples: {len_dataset}, train size size: {n_train}, test set size: {n_test}')"
      ],
      "metadata": {
        "trusted": true,
        "id": "EnslM23wMVAc"
      },
      "execution_count": null,
      "outputs": []
    },
    {
      "cell_type": "code",
      "source": [
        "train_ds, test_ds = torch.utils.data.random_split(dataset, [n_train,n_test])\n",
        "train_dl = torch.utils.data.DataLoader(train_ds, batch_size=4,shuffle=True, num_workers=4)\n",
        "test_dl = torch.utils.data.DataLoader(test_ds, batch_size=4,shuffle=True, num_workers=1)"
      ],
      "metadata": {
        "trusted": true,
        "id": "WArqdQ-rMVAd"
      },
      "execution_count": null,
      "outputs": []
    },
    {
      "cell_type": "code",
      "source": [
        "model = xrv.models.DenseNet(num_classes=2).cuda()\n",
        "criterion = nn.CrossEntropyLoss()\n",
        "optimizer = optim.SGD(model.parameters(), lr=0.001, momentum=0.9)"
      ],
      "metadata": {
        "trusted": true,
        "id": "4XBkJp9dMVAe"
      },
      "execution_count": null,
      "outputs": []
    },
    {
      "cell_type": "markdown",
      "source": [
        "Features and target columns"
      ],
      "metadata": {
        "id": "RQbvOxMGMVAg"
      }
    },
    {
      "cell_type": "code",
      "source": [
        "features = 'PA' # \n",
        "target = 'lab'  #"
      ],
      "metadata": {
        "trusted": true,
        "id": "n7g4c8QtMVAg"
      },
      "execution_count": null,
      "outputs": []
    },
    {
      "cell_type": "markdown",
      "source": [
        "Training loop"
      ],
      "metadata": {
        "id": "mntxqzA6MVAi"
      }
    },
    {
      "cell_type": "code",
      "source": [
        "train_loss_history, test_loss_history = [], []\n",
        "for epoch in tqdm(range(10)):  # loop over the dataset multiple times\n",
        "\n",
        "    running_loss = 0.0\n",
        "    for i, data in enumerate(train_dl, 0):\n",
        "        inputs=data[features].cuda()\n",
        "        labels=data[target].long().cuda()\n",
        "        labels=labels[:,2]\n",
        "       \n",
        "        # get the inputs; data is a list of [inputs, labels]\n",
        "        # zero the parameter gradients\n",
        "        optimizer.zero_grad()\n",
        "\n",
        "        # forward + backward + optimize\n",
        "        outputs = model(inputs)\n",
        "        loss = criterion(outputs, labels)\n",
        "        loss.backward()\n",
        "        optimizer.step()\n",
        "\n",
        "        # print statistics\n",
        "        running_loss += loss.item()\n",
        "    test_loss=0.0\n",
        "\n",
        "    for i, data in enumerate(test_dl, 0):\n",
        "        inputs=data[features].cuda()\n",
        "        labels=data[target].long().cuda()\n",
        "        labels=labels[:,2]\n",
        "\n",
        "        # forward + backward + optimize\n",
        "        outputs = model(inputs)\n",
        "        loss = criterion(outputs, labels)\n",
        "\n",
        "        # print statistics\n",
        "        test_loss += loss.item()\n",
        "        \n",
        "    train_loss_history.append(running_loss)\n",
        "    test_loss_history.append(test_loss)"
      ],
      "metadata": {
        "trusted": true,
        "id": "5mawWFr2MVAi"
      },
      "execution_count": null,
      "outputs": []
    },
    {
      "cell_type": "code",
      "source": [
        "plt.plot(train_loss_history, label='trainig loss')\n",
        "plt.plot(test_loss_history, label='testing loss')\n",
        "plt.xlabel(\"Epoch\")\n",
        "plt.ylabel(\"Loss\")\n",
        "plt.legend()"
      ],
      "metadata": {
        "trusted": true,
        "id": "lLCwgSvAMVAk"
      },
      "execution_count": null,
      "outputs": []
    },
    {
      "cell_type": "markdown",
      "source": [
        "to be continued."
      ],
      "metadata": {
        "id": "nyujWMojMVAk"
      }
    },
    {
      "cell_type": "code",
      "source": [
        ""
      ],
      "metadata": {
        "trusted": true,
        "id": "MfwHbnKpMVAl"
      },
      "execution_count": null,
      "outputs": []
    }
  ]
}